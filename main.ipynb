{
 "cells": [
  {
   "cell_type": "code",
   "execution_count": 4,
   "metadata": {},
   "outputs": [
    {
     "name": "stdout",
     "output_type": "stream",
     "text": [
      "裁剪成功！\n"
     ]
    }
   ],
   "source": [
    "from PIL import Image\n",
    "import os\n",
    "\n",
    "def crop_max_circle_image(image_path, save_path):\n",
    "    with Image.open(image_path) as im:\n",
    "        im = im.convert(\"RGBA\")\n",
    "        width, height = im.size\n",
    "        radius = min(width, height) // 2\n",
    "        new_im = Image.new(\"RGBA\", (width, height), (0, 0, 0, 0))\n",
    "        for x in range(width):\n",
    "            for y in range(height):\n",
    "                if (x - width // 2) ** 2 + (y - height // 2) ** 2 <= radius ** 2:\n",
    "                    new_im.putpixel((x, y), im.getpixel((x, y)))\n",
    "        new_im.save(save_path, \"PNG\")\n",
    "\n",
    "if __name__ == \"__main__\":\n",
    "    crop_max_circle_image(\"./static/avatar.jpg\", \"./static/avatar_circle.png\")\n",
    "    print(\"裁剪成功！\")\n"
   ]
  },
  {
   "cell_type": "code",
   "execution_count": 8,
   "metadata": {},
   "outputs": [
    {
     "name": "stdout",
     "output_type": "stream",
     "text": [
      "添加圆角成功！\n"
     ]
    }
   ],
   "source": [
    "from PIL import Image, ImageDraw, ImageOps\n",
    "\n",
    "def add_round_corner(image_path, save_path, radius):\n",
    "    with Image.open(image_path) as im:\n",
    "        im = im.convert(\"RGBA\")\n",
    "        width, height = im.size\n",
    "\n",
    "        # Create a rounded mask\n",
    "        mask = Image.new(\"L\", (width, height), 0)\n",
    "        draw = ImageDraw.Draw(mask)\n",
    "\n",
    "        # Draw rounded rectangle on the mask\n",
    "        draw.rounded_rectangle((0, 0, width, height), radius=radius, fill=255)\n",
    "\n",
    "        # Apply mask to the image\n",
    "        rounded_image = ImageOps.fit(im, mask.size, centering=(0.5, 0.5))\n",
    "        rounded_image.putalpha(mask)\n",
    "\n",
    "        rounded_image.save(save_path, \"PNG\")\n",
    "\n",
    "if __name__ == \"__main__\":\n",
    "    add_round_corner(\"./static/hello.png\", \"./static/hello1.png\", 30)\n",
    "    print(\"添加圆角成功！\")\n"
   ]
  },
  {
   "cell_type": "code",
   "execution_count": null,
   "metadata": {},
   "outputs": [],
   "source": []
  }
 ],
 "metadata": {
  "kernelspec": {
   "display_name": "base",
   "language": "python",
   "name": "python3"
  },
  "language_info": {
   "codemirror_mode": {
    "name": "ipython",
    "version": 3
   },
   "file_extension": ".py",
   "mimetype": "text/x-python",
   "name": "python",
   "nbconvert_exporter": "python",
   "pygments_lexer": "ipython3",
   "version": "3.11.5"
  }
 },
 "nbformat": 4,
 "nbformat_minor": 2
}
